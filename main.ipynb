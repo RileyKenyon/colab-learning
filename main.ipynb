{
  "nbformat": 4,
  "nbformat_minor": 0,
  "metadata": {
    "colab": {
      "name": "main.ipynb",
      "provenance": [],
      "collapsed_sections": [],
      "toc_visible": true,
      "authorship_tag": "ABX9TyMZ5GvSUibaE2t06o61IZEj",
      "include_colab_link": true
    },
    "kernelspec": {
      "name": "python3",
      "display_name": "Python 3"
    }
  },
  "cells": [
    {
      "cell_type": "markdown",
      "metadata": {
        "id": "view-in-github",
        "colab_type": "text"
      },
      "source": [
        "<a href=\"https://colab.research.google.com/github/RileyKenyon/colab-learning/blob/main/main.ipynb\" target=\"_parent\"><img src=\"https://colab.research.google.com/assets/colab-badge.svg\" alt=\"Open In Colab\"/></a>"
      ]
    },
    {
      "cell_type": "markdown",
      "metadata": {
        "id": "QqIljNT8KEl1"
      },
      "source": [
        "#Test Notebook for Machine Learning Training\n",
        "---\n",
        "**Author**: Riley Kenyon\n",
        "\n",
        "**Date**: 10-16-2020\n",
        "\n",
        "**Tutorial**: https://developers.google.com/machine-learning/crash-course/ml-intro\n"
      ]
    },
    {
      "cell_type": "code",
      "metadata": {
        "id": "U4Us4-lSjj7E"
      },
      "source": [
        ""
      ],
      "execution_count": null,
      "outputs": []
    }
  ]
}